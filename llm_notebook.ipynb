{
 "cells": [
  {
   "cell_type": "code",
   "execution_count": 1,
   "metadata": {},
   "outputs": [],
   "source": [
    "import fitz  \n",
    "import numpy as np\n",
    "from langchain.vectorstores import FAISS\n",
    "from langchain.text_splitter import RecursiveCharacterTextSplitter\n",
    "from langchain.embeddings import HuggingFaceEmbeddings\n",
    "from langchain.docstore.document import Document\n",
    "#from sentence_transformers import SentenceTransformer\n",
    "from langchain.chains import RetrievalQA\n",
    "from langchain.llms import Ollama\n",
    "\n",
    "from langchain.chains import ConversationalRetrievalChain\n",
    "from langchain.memory import ConversationBufferMemory"
   ]
  },
  {
   "cell_type": "markdown",
   "metadata": {},
   "source": [
    "## Deepseek Models"
   ]
  },
  {
   "cell_type": "markdown",
   "metadata": {},
   "source": [
    "# 🚀 DeepSeek Model Versions & Recommendations\n",
    "\n",
    "DeepSeek offers various model sizes optimized for different use cases. Below is a comparison of the available versions to help you choose the best one for your needs.\n",
    "\n",
    "## ✅ Recommended Lightweight DeepSeek Versions\n",
    "\n",
    "| **Model**                 | **Command**                          | **Size**  | **Best For** |\n",
    "|---------------------------|------------------------------------|-----------|-------------|\n",
    "| **DeepSeek 1.5B (default)** | `ollama pull deepseek-r1:1.5b` | **1.5B params (~2GB RAM needed)** | Lightest version, fastest |\n",
    "| **DeepSeek 7B**            | `ollama pull deepseek-r1:7b` | **7B params (~10GB RAM needed)** | Balanced speed & power |\n",
    "| **DeepSeek 8B (Llama)**    | `ollama pull deepseek-r1:8b` | **8B params (~12GB RAM needed)** | Llama3-based, better reasoning |\n",
    "| **DeepSeek 14B**           | `ollama pull deepseek-r1:14b` | **14B params (~20GB RAM needed)** | More accurate but heavier |\n",
    "\n",
    "## My Choice: \n",
    "✅ `deepseek-r1:1.5b`    \n",
    "\n"
   ]
  },
  {
   "cell_type": "markdown",
   "metadata": {},
   "source": [
    "## Full RAG Pipeline"
   ]
  },
  {
   "cell_type": "markdown",
   "metadata": {},
   "source": [
    "\n",
    "### **Overview**\n",
    "This pipeline allows me to:\n",
    "- **Extract text from PDFs**\n",
    "- **Chunk text into smaller sections**\n",
    "- **Embed text using embeddings**\n",
    "- **Store and retrieve embeddings using FAISS**\n",
    "- **Query the system using DeepSeek LLM via Ollama**"
   ]
  },
  {
   "cell_type": "code",
   "execution_count": 2,
   "metadata": {},
   "outputs": [],
   "source": [
    "def extract_text_from_pdf(pdf_path):\n",
    "    \"\"\"Extracts text from a given PDF file.\"\"\"\n",
    "    doc = fitz.open(pdf_path)\n",
    "    text = \"\\n\".join([page.get_text(\"text\") for page in doc])\n",
    "    return text if text.strip() else None  # Avoid empty documents\n",
    "\n",
    "def load_and_process_pdfs(pdf_files):\n",
    "    \"\"\"Loads multiple PDFs and extracts valid text.\"\"\"\n",
    "    documents = [extract_text_from_pdf(pdf) for pdf in pdf_files if extract_text_from_pdf(pdf)]\n",
    "    return [doc for doc in documents if isinstance(doc, str) and doc.strip()]  \n",
    "\n",
    "def split_text_into_chunks(documents, chunk_size=500, chunk_overlap=50):\n",
    "    \"\"\"Splits text into smaller chunks for efficient processing.\"\"\"\n",
    "    text_splitter = RecursiveCharacterTextSplitter(chunk_size=chunk_size, chunk_overlap=chunk_overlap)\n",
    "    texts = []\n",
    "    for doc in documents:\n",
    "        texts.extend(text_splitter.split_text(doc))\n",
    "    return texts\n",
    "\n",
    "def create_faiss_vectorstore(texts, model_name=\"sentence-transformers/all-MiniLM-L6-v2\"):\n",
    "    \"\"\"Generates embeddings and stores them in a FAISS vector database.\"\"\"\n",
    "    embedding_model = HuggingFaceEmbeddings(model_name=model_name)\n",
    "    documents = [Document(page_content=text) for text in texts]  \n",
    "    vectorstore = FAISS.from_documents(documents, embedding_model)\n",
    "    print(\"✅ FAISS vector store successfully created!\")\n",
    "    return vectorstore"
   ]
  },
  {
   "cell_type": "code",
   "execution_count": 11,
   "metadata": {},
   "outputs": [],
   "source": [
    "def run_pipeline(pdf_files, query):\n",
    "    llm = Ollama(model=\"deepseek-r1:1.5b\") \n",
    "    documents = load_and_process_pdfs(pdf_files) \n",
    "    texts = split_text_into_chunks(documents)  \n",
    "    vectorstore = create_faiss_vectorstore(texts)  \n",
    "    \n",
    "    retriever = vectorstore.as_retriever()\n",
    "    qa_chain = RetrievalQA.from_chain_type(llm, retriever=retriever)\n",
    "    response = qa_chain.run(query)\n",
    "    clean_response = response.replace(\"<think>\", \"\").replace(\"</think>\", \"\").strip()\n",
    "    return \"\\n\".join(clean_response.split(\". \"))"
   ]
  },
  {
   "cell_type": "code",
   "execution_count": 12,
   "metadata": {},
   "outputs": [
    {
     "name": "stdout",
     "output_type": "stream",
     "text": [
      "✅ FAISS vector store successfully created!\n",
      "Okay, so I'm trying to answer this question about machine learning\n",
      "The user has given me several books and some context from them\n",
      "Let me break it down step by step.\n",
      "\n",
      "First, they mentioned Stuart Russell and Peter Norvig's \"Artificial Intelligence: A Modern Approach\" which is a big book covering ML topics\n",
      "It includes things like algorithms and how they work, the bias-variance tradeoff, etc\n",
      "Then there's a chapter on ethics in computing from Berler and Brunnstein, 2001\n",
      "They talk about jobs being automated, leisure issues, uniqueness loss, AI uses, and accountability.\n",
      "\n",
      "They also pointed out that while ML is great for automation, it can cause serious ethical problems\n",
      "So the question is asking to summarize the key technical aspects and social aspects discussed in these books, specifically focusing on advancements in ML algorithms, ethical concerns, bias in AI, and societal impact of automation.\n",
      "\n",
      "Alright, so I need to cover each of these areas from both the technical and social points\n",
      "Let's start with the technical side.\n",
      "\n",
      "Technical Aspects:\n",
      "1\n",
      "**Algorithms**: They probably talk about different types like supervised, unsupervised, reinforcement learning\n",
      "Maybe mention neural networks since that's a big part now.\n",
      "2\n",
      "**Bias and Variance**: Discuss how ML models can have bias (underfitting) or variance (overfitting), the bias-variance tradeoff is key.\n",
      "3\n",
      "**Ethical Issues in ML**: They'd talk about fairness, accuracy vs\n",
      "justice, the role of data, algorithmic fairness, transparency, etc.\n",
      "\n",
      "Social Aspects:\n",
      "1\n",
      "**Automation Impact**: The book might discuss how automation affects jobs, leisure, uniqueness\n",
      "Like robots making decisions that humans can't see or interact with.\n",
      "2\n",
      "**Ethical Concerns**: There's a section on avoiding unintended consequences—like if an AI system is biased against someone, it could cause problems.\n",
      "3\n",
      "**Societal Impact**: The books likely talk about the broader effects of ML, like in healthcare, criminal justice, etc., but also the negative side.\n",
      "\n",
      "I should make sure to mention each point from both authors' sections and see how they tie together.\n",
      "\n",
      "Wait, I remember from the ethics book that it's not just about jobs being automated\n",
      "It could lead to automation affecting people's lives more than intended, like in housing, finance, etc\n",
      "So that's an important social aspect where ethical considerations matter beyond just economic outcomes.\n",
      "\n",
      "So putting this all together, I'll structure the answer by first listing each technical and social area, then provide specific points from the books.\n",
      "\n",
      "\n",
      "**Answer:**\n",
      "\n",
      "The provided books explore machine learning through both technical advancements and social implications:\n",
      "\n",
      "**Technical Aspects:**\n",
      "1\n",
      "**Algorithms**: The books discuss various ML algorithms, including supervised, unsupervised, and reinforcement learning\n",
      "Notably, neural networks are a major focus.\n",
      "2\n",
      "**Bias and Variance**: They delve into the bias-variance tradeoff, explaining how models can either underfit (high bias) or overfit (high variance), crucial for understanding model performance.\n",
      "3\n",
      "**Ethical Issues in ML**: The ethical concerns include fairness, accuracy vs\n",
      "justice, algorithmic fairness, transparency, and accountability.\n",
      "\n",
      "**Social Aspects:**\n",
      "1\n",
      "**Automation Impact**: Automation affects jobs, leisure, and uniqueness\n",
      "For instance, robots may make decisions humans can't see or interact with.\n",
      "2\n",
      "**Ethical Concerns**: Beyond job automation, ethical issues arise from unintended consequences, such as biased algorithms leading to systemic inequities.\n",
      "3\n",
      "**Societal Impact**: ML has significant effects on society, affecting healthcare, criminal justice, and environmental outcomes, though also introducing potential negative impacts.\n",
      "\n",
      "These books collectively provide insights into both the technical innovations of ML and their societal and ethical implications.\n"
     ]
    }
   ],
   "source": [
    "pdf_files = [\"Geron2017.pdf\", \"knafling2015.pdf\", \"Mohri2018.pdf\", \"NG2018.pdf\", \"NG2023.pdf\", \"Russell2010.pdf\", \"Zheng2018.pdf\"]\n",
    "query = '''\n",
    "Summarize the key technical and social aspects discussed in the provided books \n",
    "on machine learning. Specifically, highlight advancements in ML algorithms, \n",
    "ethical concerns, bias in AI, and the societal impact of automation.\n",
    "'''\n",
    "\n",
    "response = run_pipeline(pdf_files, query)\n",
    "print(response)"
   ]
  },
  {
   "cell_type": "markdown",
   "metadata": {},
   "source": [
    "## Set up conversational retrieval with memory"
   ]
  },
  {
   "cell_type": "code",
   "execution_count": null,
   "metadata": {},
   "outputs": [],
   "source": [
    "def setup_conversational_chain(vectorstore, model_name=\"deepseek-r1:1.5b\"):\n",
    "    \"\"\"Creates a retrieval-based QA system with memory.\"\"\"\n",
    "    llm = Ollama(model=model_name)  \n",
    "    memory = ConversationBufferMemory(memory_key=\"chat_history\", return_messages=True)\n",
    "    qa_chain = ConversationalRetrievalChain.from_llm(llm, retriever=vectorstore.as_retriever(), memory=memory)\n",
    "    return qa_chain\n",
    "\n",
    "def ask_question(qa_chain, query):\n",
    "    \"\"\"Asks a question and stores the conversation history.\"\"\"\n",
    "    response = qa_chain.invoke({\"question\": query})\n",
    "    print(\"🔎 Answer:\", response.get(\"answer\", \"No answer found.\"))\n",
    "    return response.get(\"answer\", \"No answer found.\")\n",
    "\n",
    "def run_pipeline_with_memory(pdf_files, query):\n",
    "    documents = load_and_process_pdfs(pdf_files)  \n",
    "    texts = split_text_into_chunks(documents) \n",
    "    \n",
    "    embedding_model = HuggingFaceEmbeddings(model_name=\"sentence-transformers/all-MiniLM-L6-v2\")\n",
    "    documents = [Document(page_content=text) for text in texts]  \n",
    "    vectorstore = FAISS.from_documents(documents, embedding_model)\n",
    "    \n",
    "    qa_chain = setup_conversational_chain(vectorstore)\n",
    "    \n",
    "    answer = ask_question(qa_chain, query)\n",
    "    answer = answer.replace(\"<think>\", \"\").replace(\"</think>\", \"\").strip()\n",
    "\n",
    "    return answer, qa_chain\n",
    "\n",
    "    "
   ]
  },
  {
   "cell_type": "code",
   "execution_count": 14,
   "metadata": {},
   "outputs": [
    {
     "name": "stderr",
     "output_type": "stream",
     "text": [
      "/var/folders/6j/6_13thh50qqgx2lhw_0qf67m0000gn/T/ipykernel_25020/364125185.py:4: LangChainDeprecationWarning: Please see the migration guide at: https://python.langchain.com/docs/versions/migrating_memory/\n",
      "  memory = ConversationBufferMemory(memory_key=\"chat_history\", return_messages=True)\n"
     ]
    },
    {
     "name": "stdout",
     "output_type": "stream",
     "text": [
      "🔎 Answer: <think>\n",
      "Okay, so I need to summarize the key technical and social aspects of machine learning books based on the given context. Let's break down what's provided.\n",
      "\n",
      "First, there are a few paragraphs about specific authors and their books. Stuart Russell and Peter Norvig wrote \"Artificial Intelligence: A Modern Approach,\" which is a comprehensive textbook covering a lot of topics including ML. Another author is John Langford from Carnegie Mellon University who has also written \"Revisiting the Bias-Variance Tradeoff.\" There's also a chapter titled \"Machine Learning for Data Science\" in this book, focusing on practical aspects.\n",
      "\n",
      "Then, there's an example about using case studies to explain concepts without getting into specifics. The book is used by many industries and helps leaders understand ML principles through examples from various fields.\n",
      "\n",
      "So the user wants me to list these technical and social aspects. From the context, I can gather:\n",
      "\n",
      "1. Technical Content: The book covers various topics in AI, machine learning, data visualization, bias-variance tradeoff, neural networks, deep learning, natural language processing, automated reasoning, and ethical considerations.\n",
      "2. Practical Tips and Resources: They include case studies, real-world examples, code snippets, detailed explanations of algorithms, and exercises to test understanding.\n",
      "3. Leadership Tools and Tools for Managing Teams: The book provides guidance on defining technical direction and using metrics, along with tips on effective communication.\n",
      "\n",
      "I think that's the main summary based on the provided context.\n",
      "</think>\n",
      "\n",
      "**Summary of Key Technical and Social Aspects in ML Books**\n",
      "\n",
      "1. **Technical Content:**\n",
      "   - Comprehensive coverage of AI and machine learning topics, including data visualization, bias-variance tradeoff, neural networks, deep learning, natural language processing, automated reasoning, ethical considerations, optimization techniques, model evaluation, ensemble methods, feature engineering, reinforcement learning, generative models like GANs, transformers for sequence modeling, transfer learning, domain adaptation, domain generalization, active learning strategies.\n",
      "\n",
      "2. **Practical Tips and Resources:**\n",
      "   - Utilizes case studies across multiple industries to illustrate fundamental concepts without delving into specifics.\n",
      "   - Provides real-world examples and explanations of algorithms with detailed walkthroughs and step-by-step derivations.\n",
      "   - Includes exercises for hands-on practice, covering datasets, model design, implementation details, evaluation metrics, and ethical considerations.\n",
      "\n",
      "3. **Leadership Tools and Team Management:**\n",
      "   - Offers guidance on setting technical direction and defining project scopes.\n",
      "   - Provides leadership tips, such as using single-number metrics when appropriate but emphasizing the importance of diverse perspectives in communication to avoid biases.\n",
      "   - Includes tools and techniques for managing teams effectively within a data-driven context.\n"
     ]
    }
   ],
   "source": [
    "pdf_files = [\"Geron2017.pdf\", \"knafling2015.pdf\", \"Mohri2018.pdf\", \"NG2018.pdf\", \"NG2023.pdf\", \"Russell2010.pdf\", \"Zheng2018.pdf\"]\n",
    "query = \"Summarize key technical and social aspects in ML books.\"\n",
    "answer, qa_chain = run_pipeline_with_memory(pdf_files, query)"
   ]
  },
  {
   "cell_type": "code",
   "execution_count": 15,
   "metadata": {},
   "outputs": [
    {
     "name": "stdout",
     "output_type": "stream",
     "text": [
      "🔎 Answer: <think>\n",
      "嗯，用户问的是ML教材的主要技术和社会内容。我需要先理清这些方面。\n",
      "\n",
      "首先，技术方面包括数据准备、特征工程、算法设计、模型评估、部署与优化、应用场景等。这些都是机器学习中的核心问题和方法论。\n",
      "\n",
      "然后是社交方面，涉及伦理、可解释性、社区参与、团队协作、公众认知和反馈机制等。这部分是关于如何在技术上实施ML，并考虑人类的视角。\n",
      "\n",
      "总结一下，用户可能希望了解教材中系统地涵盖了技术原理和技术应用，同时也在社会层面考虑相关问题。这样可以全面展示机器学习的发展和影响。\n",
      "</think>\n",
      "\n",
      "在 ML 教材中，有哪些主要的技术和社交方面内容？\n",
      "\n",
      "主要的技术方面包括数据准备、特征工程、算法设计、模型评估、部署与优化以及应用场景等。\n",
      "\n",
      "主要的社交方面包括伦理、可解释性、社区参与、团队协作、公众认知和反馈机制等。\n"
     ]
    },
    {
     "data": {
      "text/plain": [
       "'<think>\\n嗯，用户问的是ML教材的主要技术和社会内容。我需要先理清这些方面。\\n\\n首先，技术方面包括数据准备、特征工程、算法设计、模型评估、部署与优化、应用场景等。这些都是机器学习中的核心问题和方法论。\\n\\n然后是社交方面，涉及伦理、可解释性、社区参与、团队协作、公众认知和反馈机制等。这部分是关于如何在技术上实施ML，并考虑人类的视角。\\n\\n总结一下，用户可能希望了解教材中系统地涵盖了技术原理和技术应用，同时也在社会层面考虑相关问题。这样可以全面展示机器学习的发展和影响。\\n</think>\\n\\n在 ML 教材中，有哪些主要的技术和社交方面内容？\\n\\n主要的技术方面包括数据准备、特征工程、算法设计、模型评估、部署与优化以及应用场景等。\\n\\n主要的社交方面包括伦理、可解释性、社区参与、团队协作、公众认知和反馈机制等。'"
      ]
     },
     "execution_count": 15,
     "metadata": {},
     "output_type": "execute_result"
    }
   ],
   "source": [
    "follow_up_query = \"Which of the books focus more on ethical aspects of AI\"\n",
    "ask_question(qa_chain, follow_up_query)"
   ]
  },
  {
   "cell_type": "code",
   "execution_count": 16,
   "metadata": {},
   "outputs": [
    {
     "name": "stdout",
     "output_type": "stream",
     "text": [
      "🔎 Answer: <think>\n",
      "嗯，用户让我把之前的英文提问重述成一个独立的问题。我需要仔细分析他们的原文，看看他们到底想要什么。\n",
      "\n",
      "他们提到了一本关于机器学习的书籍，询问哪些书更多地关注伦理方面的内容。这可能涉及到机器学习技术中的道德问题、伦理决策或者法律层面的影响。\n",
      "\n",
      "接下来，我要确保新提问清晰明确，不引入其他信息或假设，只专注于用户的问题。所以，我将重新表述为：“Which of the ML textbooks focus more on ethical considerations and practices in AI”？\n",
      "\n",
      "是的，这样既保持了原意，又独立解答了问题，不会有任何混淆。\n",
      "</think>\n",
      "\n",
      "Which of the ML textbooks focus more on ethical considerations and practices in AI?\n"
     ]
    },
    {
     "data": {
      "text/plain": [
       "'<think>\\n嗯，用户让我把之前的英文提问重述成一个独立的问题。我需要仔细分析他们的原文，看看他们到底想要什么。\\n\\n他们提到了一本关于机器学习的书籍，询问哪些书更多地关注伦理方面的内容。这可能涉及到机器学习技术中的道德问题、伦理决策或者法律层面的影响。\\n\\n接下来，我要确保新提问清晰明确，不引入其他信息或假设，只专注于用户的问题。所以，我将重新表述为：“Which of the ML textbooks focus more on ethical considerations and practices in AI”？\\n\\n是的，这样既保持了原意，又独立解答了问题，不会有任何混淆。\\n</think>\\n\\nWhich of the ML textbooks focus more on ethical considerations and practices in AI?'"
      ]
     },
     "execution_count": 16,
     "metadata": {},
     "output_type": "execute_result"
    }
   ],
   "source": [
    "follow_up_query = \"Can you please answer my previous question in English?\"\n",
    "ask_question(qa_chain, follow_up_query)"
   ]
  }
 ],
 "metadata": {
  "kernelspec": {
   "display_name": "lewagon",
   "language": "python",
   "name": "python3"
  },
  "language_info": {
   "codemirror_mode": {
    "name": "ipython",
    "version": 3
   },
   "file_extension": ".py",
   "mimetype": "text/x-python",
   "name": "python",
   "nbconvert_exporter": "python",
   "pygments_lexer": "ipython3",
   "version": "3.10.6"
  }
 },
 "nbformat": 4,
 "nbformat_minor": 2
}
